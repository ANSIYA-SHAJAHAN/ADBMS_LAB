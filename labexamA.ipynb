{
  "nbformat": 4,
  "nbformat_minor": 0,
  "metadata": {
    "colab": {
      "provenance": [],
      "authorship_tag": "ABX9TyPuHSzwCBDvje8/XlAv6Kac",
      "include_colab_link": true
    },
    "kernelspec": {
      "name": "python3",
      "display_name": "Python 3"
    },
    "language_info": {
      "name": "python"
    }
  },
  "cells": [
    {
      "cell_type": "markdown",
      "metadata": {
        "id": "view-in-github",
        "colab_type": "text"
      },
      "source": [
        "<a href=\"https://colab.research.google.com/github/ANSIYA-SHAJAHAN/ADBMS_LAB/blob/main/labexamA.ipynb\" target=\"_parent\"><img src=\"https://colab.research.google.com/assets/colab-badge.svg\" alt=\"Open In Colab\"/></a>"
      ]
    },
    {
      "cell_type": "code",
      "execution_count": 1,
      "metadata": {
        "id": "ezWvMxDtNNv3"
      },
      "outputs": [],
      "source": [
        "import numpy as np\n",
        "import pandas as pd"
      ]
    },
    {
      "cell_type": "code",
      "source": [
        "rows=int(input(\"Enter the rows:\"))\n"
      ],
      "metadata": {
        "colab": {
          "base_uri": "https://localhost:8080/"
        },
        "id": "qy6gOSd4T06v",
        "outputId": "f56dfaef-c481-406a-ed6c-def328249bfd"
      },
      "execution_count": 20,
      "outputs": [
        {
          "name": "stdout",
          "output_type": "stream",
          "text": [
            "Enter the rows:2\n"
          ]
        }
      ]
    },
    {
      "cell_type": "code",
      "source": [
        "columns=int(input(\"Enter the columns:\"))"
      ],
      "metadata": {
        "colab": {
          "base_uri": "https://localhost:8080/"
        },
        "id": "8ZDu8ufjUkuV",
        "outputId": "5639e587-e6f3-4116-b2f9-06b806e0e389"
      },
      "execution_count": 22,
      "outputs": [
        {
          "name": "stdout",
          "output_type": "stream",
          "text": [
            "Enter the columns:2\n"
          ]
        }
      ]
    },
    {
      "cell_type": "code",
      "source": [
        "ma = [[int(input()) for c in range (columns)] for r in range(rows)]"
      ],
      "metadata": {
        "colab": {
          "base_uri": "https://localhost:8080/"
        },
        "id": "xat4qdB_U560",
        "outputId": "860b81ad-79d0-4207-acf0-364932972429"
      },
      "execution_count": 12,
      "outputs": [
        {
          "name": "stdout",
          "output_type": "stream",
          "text": [
            "2\n",
            "4\n",
            "6\n",
            "7\n"
          ]
        }
      ]
    },
    {
      "cell_type": "code",
      "source": [
        "print(ma)"
      ],
      "metadata": {
        "colab": {
          "base_uri": "https://localhost:8080/"
        },
        "id": "MP20R9RtU6_p",
        "outputId": "1d574d9d-acfa-4406-a0d8-083dfaf24ba5"
      },
      "execution_count": 13,
      "outputs": [
        {
          "output_type": "stream",
          "name": "stdout",
          "text": [
            "[[2, 4], [6, 7]]\n"
          ]
        }
      ]
    },
    {
      "cell_type": "code",
      "source": [
        "mb = [[int(input()) for c in range (columns)] for r in range(rows)]"
      ],
      "metadata": {
        "colab": {
          "base_uri": "https://localhost:8080/"
        },
        "id": "1EcmkeEpU-Mk",
        "outputId": "13eac503-9c9d-484e-e362-90cf6e1b1cff"
      },
      "execution_count": 14,
      "outputs": [
        {
          "name": "stdout",
          "output_type": "stream",
          "text": [
            "4\n",
            "7\n",
            "8\n",
            "9\n"
          ]
        }
      ]
    },
    {
      "cell_type": "code",
      "source": [
        "print(mb)"
      ],
      "metadata": {
        "colab": {
          "base_uri": "https://localhost:8080/"
        },
        "id": "8TVudg4lVFGN",
        "outputId": "a85a8854-addb-4fd1-b4b2-025a228d0873"
      },
      "execution_count": 15,
      "outputs": [
        {
          "output_type": "stream",
          "name": "stdout",
          "text": [
            "[[4, 7], [8, 9]]\n"
          ]
        }
      ]
    },
    {
      "cell_type": "code",
      "source": [
        "from numpy.linalg.linalg import dot\n",
        "print(\"Dot product:\\n\", dot(ma,mb))"
      ],
      "metadata": {
        "colab": {
          "base_uri": "https://localhost:8080/"
        },
        "id": "dadxONo-VGKF",
        "outputId": "8e3e3f01-b85b-40ee-fe46-cf783f39e66b"
      },
      "execution_count": 16,
      "outputs": [
        {
          "output_type": "stream",
          "name": "stdout",
          "text": [
            "Dot product:\n",
            " [[ 40  50]\n",
            " [ 80 105]]\n"
          ]
        }
      ]
    },
    {
      "cell_type": "code",
      "source": [
        "np.transpose(ma)"
      ],
      "metadata": {
        "colab": {
          "base_uri": "https://localhost:8080/"
        },
        "id": "7_Phml2CVKIt",
        "outputId": "13cfbc29-5277-4521-b60c-754e965fc4cb"
      },
      "execution_count": 17,
      "outputs": [
        {
          "output_type": "execute_result",
          "data": {
            "text/plain": [
              "array([[2, 6],\n",
              "       [4, 7]])"
            ]
          },
          "metadata": {},
          "execution_count": 17
        }
      ]
    },
    {
      "cell_type": "code",
      "source": [
        "np.trace(mb)"
      ],
      "metadata": {
        "colab": {
          "base_uri": "https://localhost:8080/"
        },
        "id": "IWGOc9KyVQH9",
        "outputId": "53205e6c-322b-4d6b-ffc7-429160dd771f"
      },
      "execution_count": 18,
      "outputs": [
        {
          "output_type": "execute_result",
          "data": {
            "text/plain": [
              "13"
            ]
          },
          "metadata": {},
          "execution_count": 18
        }
      ]
    },
    {
      "cell_type": "code",
      "source": [
        "print(np.linalg.det(ma))"
      ],
      "metadata": {
        "colab": {
          "base_uri": "https://localhost:8080/"
        },
        "id": "FNH53ehdVUBk",
        "outputId": "523af2c2-1306-4a00-bb08-29d064e90b69"
      },
      "execution_count": 19,
      "outputs": [
        {
          "output_type": "stream",
          "name": "stdout",
          "text": [
            "-10.000000000000002\n"
          ]
        }
      ]
    }
  ]
}